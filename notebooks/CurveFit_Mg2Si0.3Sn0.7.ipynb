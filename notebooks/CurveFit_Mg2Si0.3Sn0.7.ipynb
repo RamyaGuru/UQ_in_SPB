{
 "cells": [
  {
   "cell_type": "code",
   "execution_count": 3,
   "metadata": {},
   "outputs": [],
   "source": [
    "import sys\n",
    "sys.path.append('../')\n",
    "import spb_scattering_mech as spb\n",
    "import numpy as np\n",
    "import matplotlib.pyplot as plt\n",
    "from scipy.optimize import curve_fit"
   ]
  },
  {
   "cell_type": "markdown",
   "metadata": {},
   "source": [
    "Fetch the Experimental Data"
   ]
  },
  {
   "cell_type": "code",
   "execution_count": 5,
   "metadata": {},
   "outputs": [
    {
     "name": "stdout",
     "output_type": "stream",
     "text": [
      "Goyal2019Bi\n",
      "Zhang2019Sb\n",
      "Yin2016Sb\n",
      "Liu2012Sb\n",
      "Liu2014Bi\n",
      "dict_keys(['x(Bi)', 'S (muV/K)', 'sigma (S/cm)', 'RH (cm^3/C)'])\n",
      "dict_keys(['x(Sb)', 'S (muV/K)', 'sigma (S/cm)', 'RH (cm^3/C)'])\n",
      "dict_keys(['x(Sb)', 'S (muV/K)', 'sigma (S/cm)', 'RH (cm^3/C)'])\n",
      "dict_keys(['x(Sb)', 'S (muV/K)', 'sigma (S/cm)', 'RH (cm^3/C)'])\n",
      "dict_keys(['x(Bi)', 'S (muV/K)', 'sigma (S/cm)', 'RH (cm^3/C)'])\n"
     ]
    }
   ],
   "source": [
    "data_dir = '/Users/ramyagurunathan/Documents/PhDProjects/Argonne_TECCA/UQData/Mg2SiSn/xSi30'\n",
    "name_list = ['Goyal2019Bi',\t'Liu2012Sb',\t'Liu2014Bi',\t'Yin2016Sb',\t'Zhang2019Sb']\n",
    "D = {}\n",
    "data = spb.read_data_pd(data_dir, name_list)\n",
    "D['St_c'], D['At_c'], D['Et_c'], D['It_c'] = spb.get_data(data, ind_prop = 'S (muV/K)', dep_prop = 'sigma (S/cm)', error = 0.05)\n"
   ]
  },
  {
   "cell_type": "code",
   "execution_count": 13,
   "metadata": {},
   "outputs": [
    {
     "name": "stdout",
     "output_type": "stream",
     "text": [
      "[0.04051019]\n"
     ]
    }
   ],
   "source": [
    "#Do the non-linear least squares fit to get the optimum\n",
    "#Inputs\n",
    "T = 300\n",
    "l = 0\n",
    "def fit_jonker(D, T, l):\n",
    "    param, cov = curve_fit(lambda S, muW: spb.conductivity_from_Seebeck(muW, S, T, l), [s * 1e-6 for s in D['St_c']],\\\n",
    "                           D['At_c'], bounds = (0, np.inf))\n",
    "    return param, cov\n",
    "\n",
    "param, cov = fit_jonker(D, T, l)\n",
    "\n",
    "print(param)\n"
   ]
  },
  {
   "cell_type": "code",
   "execution_count": 15,
   "metadata": {},
   "outputs": [
    {
     "name": "stdout",
     "output_type": "stream",
     "text": [
      "[0.0140558]\n"
     ]
    }
   ],
   "source": [
    "l = 0.5\n",
    "param, cov = fit_jonker(D, T, l)\n",
    "\n",
    "print(param)"
   ]
  },
  {
   "cell_type": "code",
   "execution_count": 17,
   "metadata": {},
   "outputs": [
    {
     "name": "stdout",
     "output_type": "stream",
     "text": [
      "[0.00408315]\n"
     ]
    }
   ],
   "source": [
    "l = 1\n",
    "param, cov = fit_jonker(D, T, l)\n",
    "print(param)"
   ]
  },
  {
   "cell_type": "code",
   "execution_count": 18,
   "metadata": {},
   "outputs": [
    {
     "name": "stdout",
     "output_type": "stream",
     "text": [
      "[0.00023318]\n"
     ]
    }
   ],
   "source": [
    "l = 2\n",
    "param, cov = fit_jonker(D, T, l)\n",
    "print(param)"
   ]
  },
  {
   "cell_type": "code",
   "execution_count": null,
   "metadata": {},
   "outputs": [],
   "source": []
  }
 ],
 "metadata": {
  "kernelspec": {
   "display_name": "Python 3",
   "language": "python",
   "name": "python3"
  },
  "language_info": {
   "codemirror_mode": {
    "name": "ipython",
    "version": 3
   },
   "file_extension": ".py",
   "mimetype": "text/x-python",
   "name": "python",
   "nbconvert_exporter": "python",
   "pygments_lexer": "ipython3",
   "version": "3.7.4"
  }
 },
 "nbformat": 4,
 "nbformat_minor": 2
}
